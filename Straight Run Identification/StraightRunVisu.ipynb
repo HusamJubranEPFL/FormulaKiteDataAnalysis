{
 "cells": [
  {
   "cell_type": "code",
   "execution_count": 1,
   "id": "74fe32ee",
   "metadata": {},
   "outputs": [],
   "source": [
    "import os\n",
    "import json\n",
    "from cog_analysis import load_boat_data, plot_full_trajectories\n",
    "\n",
    "run_path = \"../Data_Sailnjord/Straight_lines/06_06/06_06_Run1\"\n",
    "csv_files = [f for f in os.listdir(run_path) if f.endswith(\".csv\")]\n",
    "\n",
    "# Construire les chemins complets\n",
    "boat1_path = os.path.join(run_path, csv_files[0])\n",
    "boat2_path = os.path.join(run_path, csv_files[1])\n",
    "\n",
    "# Charger les données\n",
    "boat1_df, boat2_df, boat1_name, boat2_name = load_boat_data(boat1_path, boat2_path)"
   ]
  },
  {
   "cell_type": "code",
   "execution_count": 2,
   "id": "e872ce18",
   "metadata": {},
   "outputs": [],
   "source": [
    "notebook_dir = os.getcwd()\n",
    "summary_path = os.path.join(notebook_dir, \"summary.json\")\n",
    "with open(summary_path, \"r\") as f:\n",
    "    summary = json.load(f)\n",
    "summary_dict = {r[\"run\"]: r[\"intervals\"] for r in summary}\n",
    "intervals_run1 = summary_dict[\"06_06_Run1\"]"
   ]
  },
  {
   "cell_type": "code",
   "execution_count": 3,
   "id": "38ce694b",
   "metadata": {},
   "outputs": [],
   "source": [
    "start1 = intervals_run1[0][\"start_time\"]\n",
    "end1 = intervals_run1[0][\"end_time\"]\n",
    "start2 = intervals_run1[1][\"start_time\"]\n",
    "end2 = intervals_run1[1][\"end_time\"]\n",
    "\n",
    "# Réduire les DataFrames aux intervalles spécifiés\n",
    "reduced_boat1_int1_df = boat1_df[(boat1_df[\"SecondsSince1970\"] >= start1) & (boat1_df[\"SecondsSince1970\"] <= end1)]\n",
    "reduced_boat2_int1_df = boat2_df[(boat2_df[\"SecondsSince1970\"] >= start1) & (boat2_df[\"SecondsSince1970\"] <= end1)]\n",
    "\n",
    "reduced_boat1_int2_df = boat1_df[(boat1_df[\"SecondsSince1970\"] >= start2) & (boat1_df[\"SecondsSince1970\"] <= end2)]\n",
    "reduced_boat2_int2_df = boat2_df[(boat2_df[\"SecondsSince1970\"] >= start2) & (boat2_df[\"SecondsSince1970\"] <= end2)]"
   ]
  },
  {
   "cell_type": "code",
   "execution_count": 4,
   "id": "57c8d53d",
   "metadata": {},
   "outputs": [
    {
     "data": {
      "text/plain": [
       "Index(['ISODateTimeUTC', 'SecondsSince1970', 'Heel_Abs', 'Heel_Lwd', 'Lat',\n",
       "       'LatBow', 'LatCenter', 'LatStern', 'Leg', 'Line_C', 'Line_L', 'Line_R',\n",
       "       'Log', 'LogAlongCourse', 'Lon', 'LonBow', 'LonCenter', 'LonStern',\n",
       "       'MagneticVariation', 'Rank', 'ROT', 'Side_lines', 'TimeLocal',\n",
       "       'TimeUTC', 'Total_lines', 'Trim', 'TWA_Abs', 'VMC', 'VMG', 'XTE',\n",
       "       'Heel', 'DistanceToLeader', 'COG', 'BelowLineCalc', 'TWD', 'TWS', 'TWA',\n",
       "       'SOG'],\n",
       "      dtype='object')"
      ]
     },
     "execution_count": 4,
     "metadata": {},
     "output_type": "execute_result"
    }
   ],
   "source": [
    "reduced_boat2_int1_df.columns"
   ]
  },
  {
   "cell_type": "code",
   "execution_count": null,
   "id": "f4581db8",
   "metadata": {},
   "outputs": [],
   "source": []
  }
 ],
 "metadata": {
  "kernelspec": {
   "display_name": "ada_exam_2024",
   "language": "python",
   "name": "python3"
  },
  "language_info": {
   "codemirror_mode": {
    "name": "ipython",
    "version": 3
   },
   "file_extension": ".py",
   "mimetype": "text/x-python",
   "name": "python",
   "nbconvert_exporter": "python",
   "pygments_lexer": "ipython3",
   "version": "3.10.16"
  }
 },
 "nbformat": 4,
 "nbformat_minor": 5
}
