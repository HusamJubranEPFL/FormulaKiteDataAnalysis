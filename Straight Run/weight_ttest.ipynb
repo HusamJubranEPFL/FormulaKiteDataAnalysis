{
 "cells": [
  {
   "cell_type": "code",
   "execution_count": 1,
   "id": "e1e0a271",
   "metadata": {},
   "outputs": [],
   "source": [
    "import pandas as pd\n",
    "import numpy as np\n",
    "import seaborn as sns\n",
    "import matplotlib.pyplot as plt\n",
    "\n",
    "import scipy.stats as stats\n",
    "\n",
    "def t_test(df1, df2, target=\"SOG\"):\n",
    "    t_stat, p_value = stats.ttest_ind(df1[target].dropna(), df2[target].dropna())\n",
    "    print(f\"T-statistic: {t_stat:.3f}, p-value: {p_value:.15f}\")\n",
    "    \n",
    "    # If p-value is less than 0.05, the difference is statistically significant\n",
    "    if p_value < 0.05:\n",
    "        print(\"The difference is statistically significant, keeping data split.\")\n",
    "    else:\n",
    "        print(\"The difference is not statistically significant, keeping data combined.\")\n"
   ]
  },
  {
   "cell_type": "code",
   "execution_count": 2,
   "id": "fafd1185",
   "metadata": {},
   "outputs": [],
   "source": [
    "df = pd.read_csv(\"all_data.csv\")"
   ]
  },
  {
   "cell_type": "code",
   "execution_count": 3,
   "id": "5b67ff3c",
   "metadata": {},
   "outputs": [
    {
     "name": "stdout",
     "output_type": "stream",
     "text": [
      "Nombre de poids différents utilisés par Senseboard (Gian) le 9 juin : 2\n"
     ]
    }
   ],
   "source": [
    "# Filtrer les données de Senseboard le 9 juin\n",
    "senseboard_9juin = df[\n",
    "    (df[\"boat_name\"] == \"SenseBoard\") &\n",
    "    (df[\"opponent_name\"] == \"Karl Maeder\") &\n",
    "    (df[\"ISODateTimeUTC\"].str.startswith(\"2025-06-09\"))]\n",
    "\n",
    "# Compter le nombre de poids différents\n",
    "nb_poids_differents = senseboard_9juin[\"boat_weight\"].nunique()\n",
    "\n",
    "# Afficher le résultat\n",
    "print(f\"Nombre de poids différents utilisés par Senseboard (Gian) le 9 juin : {nb_poids_differents}\")"
   ]
  },
  {
   "cell_type": "code",
   "execution_count": 4,
   "id": "bc318668",
   "metadata": {},
   "outputs": [
    {
     "name": "stdout",
     "output_type": "stream",
     "text": [
      "T-statistic: -2.676, p-value: 0.007467354374147\n",
      "The difference is statistically significant, keeping data split.\n"
     ]
    }
   ],
   "source": [
    "poids_uniques = senseboard_9juin[\"boat_weight\"].unique()\n",
    "\n",
    "if len(poids_uniques) != 2:\n",
    "    print(\"Erreur : il faut exactement deux poids pour effectuer le t-test.\")\n",
    "else:\n",
    "    poids1, poids2 = poids_uniques\n",
    "\n",
    "    groupe1_df = senseboard_9juin[senseboard_9juin[\"boat_weight\"] == poids1]\n",
    "    groupe2_df = senseboard_9juin[senseboard_9juin[\"boat_weight\"] == poids2]\n",
    "    t_test(groupe1_df, groupe2_df)"
   ]
  },
  {
   "cell_type": "code",
   "execution_count": 5,
   "id": "65b22704",
   "metadata": {},
   "outputs": [
    {
     "name": "stdout",
     "output_type": "stream",
     "text": [
      "3940 4622\n"
     ]
    }
   ],
   "source": [
    "print(len(groupe1_df),len(groupe2_df))"
   ]
  },
  {
   "cell_type": "code",
   "execution_count": null,
   "id": "8fef44b5",
   "metadata": {},
   "outputs": [],
   "source": []
  }
 ],
 "metadata": {
  "kernelspec": {
   "display_name": "ada_exam_2024",
   "language": "python",
   "name": "python3"
  },
  "language_info": {
   "codemirror_mode": {
    "name": "ipython",
    "version": 3
   },
   "file_extension": ".py",
   "mimetype": "text/x-python",
   "name": "python",
   "nbconvert_exporter": "python",
   "pygments_lexer": "ipython3",
   "version": "3.10.16"
  }
 },
 "nbformat": 4,
 "nbformat_minor": 5
}
