{
 "cells": [
  {
   "cell_type": "code",
   "execution_count": null,
   "id": "cef330c9",
   "metadata": {},
   "outputs": [],
   "source": [
    "from visu2 import load_summary_intervals, process_all_run, display_all\n",
    "import os\n",
    "\n",
    "summary_path = \"summary.json\"\n",
    "run_path = \"../Data_Sailnjord/Straight_lines/06_06/06_06_Run1\"\n"
   ]
  },
  {
   "cell_type": "code",
   "execution_count": 4,
   "id": "0f613004",
   "metadata": {},
   "outputs": [
    {
     "ename": "OSError",
     "evalue": "[WinError 123] La syntaxe du nom de fichier, de répertoire ou de volume est incorrecte: '../Data_Sailnjord/Straight_lines\\x06_06\\x06_06_Run1'",
     "output_type": "error",
     "traceback": [
      "\u001b[1;31m---------------------------------------------------------------------------\u001b[0m",
      "\u001b[1;31mOSError\u001b[0m                                   Traceback (most recent call last)",
      "Cell \u001b[1;32mIn[4], line 1\u001b[0m\n\u001b[1;32m----> 1\u001b[0m merged_stats, summary_df, gain_table, name1, name2 \u001b[38;5;241m=\u001b[39m \u001b[43mprocess_all_run\u001b[49m\u001b[43m(\u001b[49m\u001b[43mrun_path\u001b[49m\u001b[43m,\u001b[49m\u001b[43m \u001b[49m\u001b[43msummary_path\u001b[49m\u001b[43m)\u001b[49m\n",
      "File \u001b[1;32mc:\\Users\\romai\\OneDrive\\Bureau\\FormulaKite\\fulltime\\FormulaKiteDataAnalysis\\Straight Run Identification\\visu2.py:123\u001b[0m, in \u001b[0;36mprocess_all_run\u001b[1;34m(run_path, summary_path)\u001b[0m\n\u001b[0;32m    121\u001b[0m \u001b[38;5;28;01mdef\u001b[39;00m\u001b[38;5;250m \u001b[39m\u001b[38;5;21mprocess_all_run\u001b[39m(run_path, summary_path):\n\u001b[0;32m    122\u001b[0m     summary_dict \u001b[38;5;241m=\u001b[39m load_summary_intervals(summary_path)\n\u001b[1;32m--> 123\u001b[0m     result \u001b[38;5;241m=\u001b[39m \u001b[43mload_and_reduce_boat_data\u001b[49m\u001b[43m(\u001b[49m\u001b[43mrun_path\u001b[49m\u001b[43m,\u001b[49m\u001b[43m \u001b[49m\u001b[43msummary_dict\u001b[49m\u001b[43m)\u001b[49m\n\u001b[0;32m    124\u001b[0m     full_boat1_df, full_boat2_df \u001b[38;5;241m=\u001b[39m result[\u001b[38;5;124m\"\u001b[39m\u001b[38;5;124mreduced_boat1_int1_df\u001b[39m\u001b[38;5;124m\"\u001b[39m]\u001b[38;5;241m.\u001b[39mcopy(), result[\u001b[38;5;124m\"\u001b[39m\u001b[38;5;124mreduced_boat2_int1_df\u001b[39m\u001b[38;5;124m\"\u001b[39m]\u001b[38;5;241m.\u001b[39mcopy()\n\u001b[0;32m    125\u001b[0m     full_boat1_df[\u001b[38;5;124m\"\u001b[39m\u001b[38;5;124mISODateTimeUTC\u001b[39m\u001b[38;5;124m\"\u001b[39m] \u001b[38;5;241m=\u001b[39m pd\u001b[38;5;241m.\u001b[39mto_datetime(full_boat1_df[\u001b[38;5;124m\"\u001b[39m\u001b[38;5;124mISODateTimeUTC\u001b[39m\u001b[38;5;124m\"\u001b[39m])\n",
      "File \u001b[1;32mc:\\Users\\romai\\OneDrive\\Bureau\\FormulaKite\\fulltime\\FormulaKiteDataAnalysis\\Straight Run Identification\\visu2.py:19\u001b[0m, in \u001b[0;36mload_and_reduce_boat_data\u001b[1;34m(run_path, summary_dict)\u001b[0m\n\u001b[0;32m     18\u001b[0m \u001b[38;5;28;01mdef\u001b[39;00m\u001b[38;5;250m \u001b[39m\u001b[38;5;21mload_and_reduce_boat_data\u001b[39m(run_path, summary_dict):\n\u001b[1;32m---> 19\u001b[0m     \u001b[38;5;28mprint\u001b[39m(\u001b[43mos\u001b[49m\u001b[38;5;241;43m.\u001b[39;49m\u001b[43mlistdir\u001b[49m\u001b[43m(\u001b[49m\u001b[43mrun_path\u001b[49m\u001b[43m)\u001b[49m)\n\u001b[0;32m     20\u001b[0m     csv_files \u001b[38;5;241m=\u001b[39m \u001b[38;5;28msorted\u001b[39m([f \u001b[38;5;28;01mfor\u001b[39;00m f \u001b[38;5;129;01min\u001b[39;00m os\u001b[38;5;241m.\u001b[39mlistdir(run_path) \u001b[38;5;28;01mif\u001b[39;00m f\u001b[38;5;241m.\u001b[39mendswith(\u001b[38;5;124m\"\u001b[39m\u001b[38;5;124m.csv\u001b[39m\u001b[38;5;124m\"\u001b[39m)])\n\u001b[0;32m     21\u001b[0m     \u001b[38;5;28;01mif\u001b[39;00m \u001b[38;5;28mlen\u001b[39m(csv_files) \u001b[38;5;241m<\u001b[39m \u001b[38;5;241m2\u001b[39m:\n",
      "\u001b[1;31mOSError\u001b[0m: [WinError 123] La syntaxe du nom de fichier, de répertoire ou de volume est incorrecte: '../Data_Sailnjord/Straight_lines\\x06_06\\x06_06_Run1'"
     ]
    }
   ],
   "source": [
    "merged_stats, summary_df, gain_table, name1, name2 = process_all_run(run_path, summary_path)"
   ]
  }
 ],
 "metadata": {
  "kernelspec": {
   "display_name": "ada_exam_2024",
   "language": "python",
   "name": "python3"
  },
  "language_info": {
   "codemirror_mode": {
    "name": "ipython",
    "version": 3
   },
   "file_extension": ".py",
   "mimetype": "text/x-python",
   "name": "python",
   "nbconvert_exporter": "python",
   "pygments_lexer": "ipython3",
   "version": "3.10.16"
  }
 },
 "nbformat": 4,
 "nbformat_minor": 5
}
