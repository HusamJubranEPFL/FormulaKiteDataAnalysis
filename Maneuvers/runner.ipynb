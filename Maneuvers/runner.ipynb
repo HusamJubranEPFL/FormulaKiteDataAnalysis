{
 "cells": [
  {
   "cell_type": "code",
   "execution_count": 1,
   "id": "c3e8a55f",
   "metadata": {},
   "outputs": [
    {
     "name": "stdout",
     "output_type": "stream",
     "text": [
      "Running MainCOG.ipynb...\n",
      "✅ Finished MainCOG.ipynb\n",
      "Running merge_all.ipynb...\n",
      "✅ Finished merge_all.ipynb\n",
      "Running addsenseboarddata.ipynb...\n",
      "✅ Finished addsenseboarddata.ipynb\n",
      "Running Report_Gian_Jibe.ipynb...\n",
      "✅ Finished Report_Gian_Jibe.ipynb\n",
      "Running Report_Gian_Tack.ipynb...\n",
      "✅ Finished Report_Gian_Tack.ipynb\n",
      "Running Report_Karl_Jibe.ipynb...\n",
      "✅ Finished Report_Karl_Jibe.ipynb\n",
      "Running Report_Karl_Tack.ipynb...\n",
      "✅ Finished Report_Karl_Tack.ipynb\n"
     ]
    }
   ],
   "source": [
    "import nbformat\n",
    "from nbconvert.preprocessors import ExecutePreprocessor\n",
    "from pathlib import Path\n",
    "\n",
    "# List of notebook filenames in the specified order\n",
    "notebook_files = [\n",
    "    \"MainCOG.ipynb\",\n",
    "    \"merge_all.ipynb\",\n",
    "    \"addsenseboarddata.ipynb\",\n",
    "    \"Report_Gian_Jibe.ipynb\",\n",
    "    \"Report_Gian_Tack.ipynb\",\n",
    "    \"Report_Karl_Jibe.ipynb\",\n",
    "    \"Report_Karl_Tack.ipynb\"]\n",
    "\n",
    "# Timeout (in seconds) for long notebooks\n",
    "timeout = 1200\n",
    "\n",
    "# Loop through and execute each notebook\n",
    "for nb_file in notebook_files:\n",
    "    print(f\"Running {nb_file}...\")\n",
    "    path = Path(nb_file)\n",
    "    \n",
    "    with path.open() as f:\n",
    "        nb = nbformat.read(f, as_version=4)\n",
    "        ep = ExecutePreprocessor(timeout=timeout, kernel_name=\"python3\")\n",
    "\n",
    "        try:\n",
    "            ep.preprocess(nb, {'metadata': {'path': path.parent}})\n",
    "            with path.open('w', encoding='utf-8') as f_out:\n",
    "                nbformat.write(nb, f_out)\n",
    "            print(f\"✅ Finished {nb_file}\")\n",
    "        except Exception as e:\n",
    "            print(f\"❌ Error running {nb_file}: {e}\")\n",
    "            break\n"
   ]
  }
 ],
 "metadata": {
  "kernelspec": {
   "display_name": "ada_exam_2024",
   "language": "python",
   "name": "python3"
  },
  "language_info": {
   "codemirror_mode": {
    "name": "ipython",
    "version": 3
   },
   "file_extension": ".py",
   "mimetype": "text/x-python",
   "name": "python",
   "nbconvert_exporter": "python",
   "pygments_lexer": "ipython3",
   "version": "3.10.16"
  }
 },
 "nbformat": 4,
 "nbformat_minor": 5
}
